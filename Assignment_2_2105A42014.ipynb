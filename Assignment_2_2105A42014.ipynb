{
  "nbformat": 4,
  "nbformat_minor": 0,
  "metadata": {
    "colab": {
      "provenance": [],
      "authorship_tag": "ABX9TyMGMdhDcyve9WoLzT0bwgXy",
      "include_colab_link": true
    },
    "kernelspec": {
      "name": "python3",
      "display_name": "Python 3"
    },
    "language_info": {
      "name": "python"
    }
  },
  "cells": [
    {
      "cell_type": "markdown",
      "metadata": {
        "id": "view-in-github",
        "colab_type": "text"
      },
      "source": [
        "<a href=\"https://colab.research.google.com/github/akshithvelagandula/ai-ml/blob/main/Assignment_2_2105A42014.ipynb\" target=\"_parent\"><img src=\"https://colab.research.google.com/assets/colab-badge.svg\" alt=\"Open In Colab\"/></a>"
      ]
    },
    {
      "cell_type": "markdown",
      "source": [
        "given, f(x,y)= 3x ² + 5e ^(-y) +10\n",
        "\n",
        "iteration 1 Let\n",
        "\n",
        "x=2 Y=3 n=0.01\n",
        "\n",
        "gradient at x= 2 => d/dx(3x ² + 5e ^(-y) +10)\n",
        "\n",
        "                       =6x\n",
        "\n",
        "                       =6(2) =12\n",
        "\n",
        "gradient at y= 3 => d/dy(3x ² + 5e ^(-y) +10)\n",
        "\n",
        "                      =-5(e^(-y))\n",
        "\n",
        "                      =-5(e^(-3)) =-0.2489\n",
        "\n",
        "Now, Δx = -n*grad at x\n",
        "\n",
        "= -0.01 × 12\n",
        "\n",
        "= -0.12\n",
        "\n",
        "x1 = x +Δx\n",
        "\n",
        "= 2 - 0.12 x1 =1.88\n",
        "\n",
        "Δy= -n*grad at y\n",
        "\n",
        "= -0.01 × ( -5(e^(-3))\n",
        "\n",
        "= 2.48935*10^-3\n",
        "\n",
        "y1 = y +Δy\n",
        "\n",
        "= 3 +2.48935*10^-3\n",
        "\n",
        "y1 = 3.00248935\n",
        "\n",
        "now, iteration 2\n",
        "\n",
        "x1 = 1.88\n",
        "\n",
        "y1 = 3.00248935\n",
        "\n",
        "n=0.01\n",
        "\n",
        "gradient at x1=1.88 => d/dx(3x ² + 5e ^(-y) +10)\n",
        "\n",
        "                       =6x\n",
        "\n",
        "                       =6(1.88) = 11.28\n",
        "\n",
        "gradient at Y1= 3.00248935 => d/dy(3x ² + 5e ^(-y) +10)\n",
        "\n",
        "                      =-5(e^(-y))\n",
        "\n",
        "                      =-5(e^(-3.00248935)) \n",
        "\n",
        "                      = -0.24831\n",
        "Now,\n",
        "\n",
        "Δx = -n*grad at x\n",
        "\n",
        "= -0.01 ×11.28\n",
        "\n",
        "= -0.1128\n",
        "\n",
        "x2 = x1 +Δx = 1.88 - 0.1128\n",
        "\n",
        "x2 = 1.7672\n",
        "\n",
        "Δy= -n*grad at y\n",
        "\n",
        "= -0.01 × (-0.24831)\n",
        "\n",
        "= 2.4831*10^-3\n",
        "\n",
        "y2 = y1 +Δy\n",
        "\n",
        "= 3.00248935+2.4831*10^-3\n",
        "\n",
        "y2 = 3.00497263\n",
        "\n",
        "so iteration 1 :\n",
        "\n",
        "x1 = 1.88 y1 = 3.00248935\n",
        "\n",
        "and iteration 2 :\n",
        "\n",
        "x2 = 1.7672 y2 =3.00497263"
      ],
      "metadata": {
        "id": "pLHpqrRfjPAY"
      }
    },
    {
      "cell_type": "code",
      "execution_count": 4,
      "metadata": {
        "colab": {
          "base_uri": "https://localhost:8080/"
        },
        "id": "wZIAAYE2i5Y1",
        "outputId": "c9c760df-0f83-4720-dd9e-3b9d7a7bb7f6"
      },
      "outputs": [
        {
          "output_type": "stream",
          "name": "stdout",
          "text": [
            "iteration 1 \n",
            " x values is 1.88 \n",
            " y value is 3.0024893534183934\n",
            "iteration 2 \n",
            " x values is 1.7671999999999999 \n",
            " y value is 3.0049725176630613\n",
            "local minimum occurs at 1.7671999999999999 3.0049725176630613\n"
          ]
        }
      ],
      "source": [
        "import numpy\n",
        "x_o=2\n",
        "y_o=3\n",
        "eta=0.01\n",
        "eps=0.000001\n",
        "del_x=2\n",
        "del_y=3\n",
        "max_iters=2\n",
        "iters=0\n",
        "def deriv(x,y):\n",
        "  x_deriv=6*(x)\n",
        "  y_deriv=-5*(numpy.exp(-y))\n",
        "  return  x_deriv,y_deriv\n",
        "while max(abs(del_x),abs(del_y)) > eps and iters < max_iters:\n",
        "  prev_x=x_o\n",
        "  prev_y=y_o\n",
        "  del_x,del_y=deriv(prev_x,prev_y) \n",
        "  del_x=-eta*del_x\n",
        "  del_y=-eta*del_y\n",
        "  x_o=x_o+del_x\n",
        "  y_o=y_o+del_y\n",
        "  iters=iters+1\n",
        "  print(\"iteration\",iters,\"\\n x values is\",x_o,\"\\n y value is\",y_o)\n",
        "print(\"local minimum occurs at\",x_o,y_o)"
      ]
    }
  ]
}